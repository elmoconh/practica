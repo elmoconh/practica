{
 "cells": [
  {
   "cell_type": "code",
   "execution_count": 1,
   "metadata": {},
   "outputs": [],
   "source": [
    "import pymongo\n",
    "from pymongo import MongoClient"
   ]
  },
  {
   "cell_type": "code",
   "execution_count": 2,
   "metadata": {},
   "outputs": [],
   "source": [
    "connection = MongoClient('localhost', 27017)\n",
    "db = connection.practica"
   ]
  },
  {
   "cell_type": "code",
   "execution_count": 3,
   "metadata": {},
   "outputs": [],
   "source": [
    "data = db.students\n",
    "List = data.find()\n",
    "i=1"
   ]
  },
  {
   "cell_type": "code",
   "execution_count": 4,
   "metadata": {},
   "outputs": [
    {
     "name": "stdout",
     "output_type": "stream",
     "text": [
      "Name: MARCO ANTONIO TRONCOSO ORTEGA\n",
      "Name: Helmer Morales \n"
     ]
    }
   ],
   "source": [
    "for item in List :\n",
    "    print(\"Name: \" + item[\"name\"])\n",
    "    "
   ]
  },
  {
   "cell_type": "code",
   "execution_count": 5,
   "metadata": {},
   "outputs": [],
   "source": [
    "import pandas as pd\n",
    "import json\n",
    "from pandas import Series\n",
    "from itertools import product\n"
   ]
  },
  {
   "cell_type": "code",
   "execution_count": 6,
   "metadata": {
    "scrolled": true
   },
   "outputs": [
    {
     "data": {
      "text/html": [
       "<div>\n",
       "<style scoped>\n",
       "    .dataframe tbody tr th:only-of-type {\n",
       "        vertical-align: middle;\n",
       "    }\n",
       "\n",
       "    .dataframe tbody tr th {\n",
       "        vertical-align: top;\n",
       "    }\n",
       "\n",
       "    .dataframe thead th {\n",
       "        text-align: right;\n",
       "    }\n",
       "</style>\n",
       "<table border=\"1\" class=\"dataframe\">\n",
       "  <thead>\n",
       "    <tr style=\"text-align: right;\">\n",
       "      <th></th>\n",
       "      <th>_id</th>\n",
       "      <th>historial</th>\n",
       "      <th>name</th>\n",
       "      <th>email</th>\n",
       "      <th>salt</th>\n",
       "      <th>hash</th>\n",
       "      <th>__v</th>\n",
       "    </tr>\n",
       "  </thead>\n",
       "  <tbody>\n",
       "    <tr>\n",
       "      <th>0</th>\n",
       "      <td>5fae8f768d50472128531fa2</td>\n",
       "      <td>[{'pista': 'False', 'resultado': 'No contestad...</td>\n",
       "      <td>MARCO ANTONIO TRONCOSO ORTEGA</td>\n",
       "      <td>caro@gmail.com</td>\n",
       "      <td>80b63f1cd068730f2644982df528d1b1</td>\n",
       "      <td>a95e865373aa96751940f8e716ed5f2e8143e747f1aa15...</td>\n",
       "      <td>0</td>\n",
       "    </tr>\n",
       "    <tr>\n",
       "      <th>1</th>\n",
       "      <td>5fb300df04745e06286aa416</td>\n",
       "      <td>[{'pista': ' ', 'resultado': ' ', 'us': ' ', '...</td>\n",
       "      <td>Helmer Morales</td>\n",
       "      <td>helmer.morales1@gmail.com</td>\n",
       "      <td>2382e8203e4e57d52e06c094b4baabda</td>\n",
       "      <td>2ff7d345667693b2bf1e381594e9a30389ccc663d79ce3...</td>\n",
       "      <td>0</td>\n",
       "    </tr>\n",
       "  </tbody>\n",
       "</table>\n",
       "</div>"
      ],
      "text/plain": [
       "                        _id  \\\n",
       "0  5fae8f768d50472128531fa2   \n",
       "1  5fb300df04745e06286aa416   \n",
       "\n",
       "                                           historial  \\\n",
       "0  [{'pista': 'False', 'resultado': 'No contestad...   \n",
       "1  [{'pista': ' ', 'resultado': ' ', 'us': ' ', '...   \n",
       "\n",
       "                            name                      email  \\\n",
       "0  MARCO ANTONIO TRONCOSO ORTEGA             caro@gmail.com   \n",
       "1                Helmer Morales   helmer.morales1@gmail.com   \n",
       "\n",
       "                               salt  \\\n",
       "0  80b63f1cd068730f2644982df528d1b1   \n",
       "1  2382e8203e4e57d52e06c094b4baabda   \n",
       "\n",
       "                                                hash  __v  \n",
       "0  a95e865373aa96751940f8e716ed5f2e8143e747f1aa15...    0  \n",
       "1  2ff7d345667693b2bf1e381594e9a30389ccc663d79ce3...    0  "
      ]
     },
     "execution_count": 6,
     "metadata": {},
     "output_type": "execute_result"
    }
   ],
   "source": [
    "df = pd.DataFrame(list(data.find()))\n",
    "df\n"
   ]
  },
  {
   "cell_type": "code",
   "execution_count": 7,
   "metadata": {},
   "outputs": [],
   "source": [
    "s = df['historial'].apply(Series, 1).stack()\n"
   ]
  },
  {
   "cell_type": "code",
   "execution_count": 8,
   "metadata": {},
   "outputs": [],
   "source": [
    "s.index = s.index.droplevel(-1)"
   ]
  },
  {
   "cell_type": "code",
   "execution_count": 9,
   "metadata": {},
   "outputs": [],
   "source": [
    "s.name = 'historial'"
   ]
  },
  {
   "cell_type": "code",
   "execution_count": 10,
   "metadata": {},
   "outputs": [],
   "source": [
    "s=s.to_json(orient=\"records\")"
   ]
  },
  {
   "cell_type": "code",
   "execution_count": 11,
   "metadata": {},
   "outputs": [
    {
     "data": {
      "text/plain": [
       "'[{\"pista\":\"False\",\"resultado\":\"No contestada\",\"us\":\"caro@gmail.com\",\"tiempo\":2,\"id\":\"1\"},{\"pista\":\"False\",\"resultado\":\"No contestada\",\"us\":\"caro@gmail.com\",\"tiempo\":36,\"id\":\"1\"},{\"pista\":\" \",\"resultado\":\" \",\"us\":\" \",\"tiempo\":0,\"id\":\"0\"},{\"pista\":\"False\",\"resultado\":\"No contestada\",\"us\":\"helmer.morales1@gmail.com\",\"tiempo\":1,\"id\":\"1\"},{\"pista\":\"False\",\"resultado\":\"No contestada\",\"us\":\"helmer.morales1@gmail.com\",\"id\":\"2\"},{\"opinion:\":\"good\"},{\"pista\":\"False\",\"resultado\":\"No contestada\",\"us\":\"helmer.morales1@gmail.com\",\"tiempo\":1,\"id\":\"2\"},{\"pista\":\"False\",\"resultado\":\"No contestada\",\"us\":\"helmer.morales1@gmail.com\",\"tiempo\":1,\"id\":\"2\"},{\"pista\":\"False\",\"resultado\":\"No contestada\",\"us\":\"helmer.morales1@gmail.com\",\"tiempo\":3,\"id\":\"2\"},{\"pista\":\"False\",\"resultado\":\"No contestada\",\"us\":\"helmer.morales1@gmail.com\",\"tiempo\":3,\"id\":\"2\"},{\"pista\":\"False\",\"resultado\":\"No contestada\",\"us\":\"helmer.morales1@gmail.com\",\"tiempo\":1,\"id\":\"2\"},{\"pista\":\"False\",\"resultado\":\"No contestada\",\"us\":\"helmer.morales1@gmail.com\",\"tiempo\":1,\"id\":\"2\"},{\"pista\":\"False\",\"resultado\":\"No contestada\",\"us\":\"helmer.morales1@gmail.com\",\"tiempo\":2,\"id\":\"3\"},{\"pista\":\"False\",\"resultado\":\"No contestada\",\"us\":\"helmer.morales1@gmail.com\",\"tiempo\":1,\"id\":\"4\"},{\"pista\":\"False\",\"resultado\":\"No contestada\",\"us\":\"helmer.morales1@gmail.com\",\"tiempo\":1,\"id\":\"2\"},{\"pista\":\"False\",\"resultado\":\"No contestada\",\"us\":\"helmer.morales1@gmail.com\",\"tiempo\":1,\"id\":\"4\"},{\"pista\":\"False\",\"resultado\":\"No contestada\",\"us\":\"helmer.morales1@gmail.com\",\"tiempo\":1,\"id\":\"4\"},{\"pista\":\"False\",\"resultado\":\"No contestada\",\"us\":\"helmer.morales1@gmail.com\",\"tiempo\":1,\"id\":\"4\"},{\"pista\":\"False\",\"resultado\":\"No contestada\",\"us\":\"helmer.morales1@gmail.com\",\"tiempo\":2,\"id\":\"2\"},{\"pista\":\"False\",\"resultado\":\"No contestada\",\"us\":\"helmer.morales1@gmail.com\",\"tiempo\":1,\"id\":\"1\"},{\"pista\":\"False\",\"resultado\":\"No contestada\",\"us\":\"helmer.morales1@gmail.com\",\"tiempo\":2,\"id\":\"2\"},{\"pista\":\"False\",\"resultado\":\"No contestada\",\"us\":\"helmer.morales1@gmail.com\",\"tiempo\":1,\"id\":1},{\"pista\":\"False\",\"resultado\":\"No contestada\",\"us\":\"helmer.morales1@gmail.com\",\"tiempo\":5,\"id\":1},{\"pista\":\"False\",\"resultado\":\"No contestada\",\"us\":\"helmer.morales1@gmail.com\",\"tiempo\":1,\"id\":1},{\"pista\":\"False\",\"resultado\":\"No contestada\",\"us\":\"helmer.morales1@gmail.com\",\"tiempo\":3,\"id\":1},{\"pista\":\"False\",\"resultado\":\"No contestada\",\"us\":\"helmer.morales1@gmail.com\",\"tiempo\":1,\"id\":1},{\"pista\":\"False\",\"resultado\":\"No contestada\",\"us\":\"helmer.morales1@gmail.com\",\"tiempo\":1,\"id\":1},{\"pista\":\"False\",\"resultado\":\"No contestada\",\"us\":\"helmer.morales1@gmail.com\",\"tiempo\":2,\"id\":\"1\"},{\"pista\":\"False\",\"resultado\":\"No contestada\",\"us\":\"helmer.morales1@gmail.com\",\"tiempo\":2,\"id\":1},{\"pista\":\"False\",\"resultado\":\"No contestada\",\"us\":\"helmer.morales1@gmail.com\",\"tiempo\":2,\"id\":1},{\"pista\":\"False\",\"resultado\":\"No contestada\",\"us\":\"helmer.morales1@gmail.com\",\"tiempo\":1,\"id\":1},{\"pista\":\"False\",\"resultado\":\"No contestada\",\"us\":\"helmer.morales1@gmail.com\",\"tiempo\":1,\"id\":1},{\"pista\":\"False\",\"resultado\":\"No contestada\",\"us\":\"helmer.morales1@gmail.com\",\"tiempo\":1,\"id\":1},{\"pista\":\"False\",\"resultado\":\"No contestada\",\"us\":\"helmer.morales1@gmail.com\",\"tiempo\":1,\"id\":0},{\"pista\":\"False\",\"resultado\":\"No contestada\",\"us\":\"helmer.morales1@gmail.com\",\"tiempo\":2,\"id\":\"1\"},{\"pista\":\"False\",\"resultado\":\"No contestada\",\"us\":\"helmer.morales1@gmail.com\",\"tiempo\":2,\"id\":\"2\"},{\"pista\":\"False\",\"resultado\":\"No contestada\",\"us\":\"helmer.morales1@gmail.com\",\"tiempo\":2,\"id\":\"3\"},{\"pista\":\"False\",\"resultado\":\"No contestada\",\"us\":\"helmer.morales1@gmail.com\",\"tiempo\":1,\"id\":2}]'"
      ]
     },
     "execution_count": 11,
     "metadata": {},
     "output_type": "execute_result"
    }
   ],
   "source": [
    "s"
   ]
  },
  {
   "cell_type": "code",
   "execution_count": 12,
   "metadata": {},
   "outputs": [
    {
     "data": {
      "text/plain": [
       "[{'pista': 'False',\n",
       "  'resultado': 'No contestada',\n",
       "  'us': 'caro@gmail.com',\n",
       "  'tiempo': 2,\n",
       "  'id': '1'},\n",
       " {'pista': 'False',\n",
       "  'resultado': 'No contestada',\n",
       "  'us': 'caro@gmail.com',\n",
       "  'tiempo': 36,\n",
       "  'id': '1'},\n",
       " {'pista': ' ', 'resultado': ' ', 'us': ' ', 'tiempo': 0, 'id': '0'},\n",
       " {'pista': 'False',\n",
       "  'resultado': 'No contestada',\n",
       "  'us': 'helmer.morales1@gmail.com',\n",
       "  'tiempo': 1,\n",
       "  'id': '1'},\n",
       " {'pista': 'False',\n",
       "  'resultado': 'No contestada',\n",
       "  'us': 'helmer.morales1@gmail.com',\n",
       "  'id': '2'},\n",
       " {'opinion:': 'good'},\n",
       " {'pista': 'False',\n",
       "  'resultado': 'No contestada',\n",
       "  'us': 'helmer.morales1@gmail.com',\n",
       "  'tiempo': 1,\n",
       "  'id': '2'},\n",
       " {'pista': 'False',\n",
       "  'resultado': 'No contestada',\n",
       "  'us': 'helmer.morales1@gmail.com',\n",
       "  'tiempo': 1,\n",
       "  'id': '2'},\n",
       " {'pista': 'False',\n",
       "  'resultado': 'No contestada',\n",
       "  'us': 'helmer.morales1@gmail.com',\n",
       "  'tiempo': 3,\n",
       "  'id': '2'},\n",
       " {'pista': 'False',\n",
       "  'resultado': 'No contestada',\n",
       "  'us': 'helmer.morales1@gmail.com',\n",
       "  'tiempo': 3,\n",
       "  'id': '2'},\n",
       " {'pista': 'False',\n",
       "  'resultado': 'No contestada',\n",
       "  'us': 'helmer.morales1@gmail.com',\n",
       "  'tiempo': 1,\n",
       "  'id': '2'},\n",
       " {'pista': 'False',\n",
       "  'resultado': 'No contestada',\n",
       "  'us': 'helmer.morales1@gmail.com',\n",
       "  'tiempo': 1,\n",
       "  'id': '2'},\n",
       " {'pista': 'False',\n",
       "  'resultado': 'No contestada',\n",
       "  'us': 'helmer.morales1@gmail.com',\n",
       "  'tiempo': 2,\n",
       "  'id': '3'},\n",
       " {'pista': 'False',\n",
       "  'resultado': 'No contestada',\n",
       "  'us': 'helmer.morales1@gmail.com',\n",
       "  'tiempo': 1,\n",
       "  'id': '4'},\n",
       " {'pista': 'False',\n",
       "  'resultado': 'No contestada',\n",
       "  'us': 'helmer.morales1@gmail.com',\n",
       "  'tiempo': 1,\n",
       "  'id': '2'},\n",
       " {'pista': 'False',\n",
       "  'resultado': 'No contestada',\n",
       "  'us': 'helmer.morales1@gmail.com',\n",
       "  'tiempo': 1,\n",
       "  'id': '4'},\n",
       " {'pista': 'False',\n",
       "  'resultado': 'No contestada',\n",
       "  'us': 'helmer.morales1@gmail.com',\n",
       "  'tiempo': 1,\n",
       "  'id': '4'},\n",
       " {'pista': 'False',\n",
       "  'resultado': 'No contestada',\n",
       "  'us': 'helmer.morales1@gmail.com',\n",
       "  'tiempo': 1,\n",
       "  'id': '4'},\n",
       " {'pista': 'False',\n",
       "  'resultado': 'No contestada',\n",
       "  'us': 'helmer.morales1@gmail.com',\n",
       "  'tiempo': 2,\n",
       "  'id': '2'},\n",
       " {'pista': 'False',\n",
       "  'resultado': 'No contestada',\n",
       "  'us': 'helmer.morales1@gmail.com',\n",
       "  'tiempo': 1,\n",
       "  'id': '1'},\n",
       " {'pista': 'False',\n",
       "  'resultado': 'No contestada',\n",
       "  'us': 'helmer.morales1@gmail.com',\n",
       "  'tiempo': 2,\n",
       "  'id': '2'},\n",
       " {'pista': 'False',\n",
       "  'resultado': 'No contestada',\n",
       "  'us': 'helmer.morales1@gmail.com',\n",
       "  'tiempo': 1,\n",
       "  'id': 1},\n",
       " {'pista': 'False',\n",
       "  'resultado': 'No contestada',\n",
       "  'us': 'helmer.morales1@gmail.com',\n",
       "  'tiempo': 5,\n",
       "  'id': 1},\n",
       " {'pista': 'False',\n",
       "  'resultado': 'No contestada',\n",
       "  'us': 'helmer.morales1@gmail.com',\n",
       "  'tiempo': 1,\n",
       "  'id': 1},\n",
       " {'pista': 'False',\n",
       "  'resultado': 'No contestada',\n",
       "  'us': 'helmer.morales1@gmail.com',\n",
       "  'tiempo': 3,\n",
       "  'id': 1},\n",
       " {'pista': 'False',\n",
       "  'resultado': 'No contestada',\n",
       "  'us': 'helmer.morales1@gmail.com',\n",
       "  'tiempo': 1,\n",
       "  'id': 1},\n",
       " {'pista': 'False',\n",
       "  'resultado': 'No contestada',\n",
       "  'us': 'helmer.morales1@gmail.com',\n",
       "  'tiempo': 1,\n",
       "  'id': 1},\n",
       " {'pista': 'False',\n",
       "  'resultado': 'No contestada',\n",
       "  'us': 'helmer.morales1@gmail.com',\n",
       "  'tiempo': 2,\n",
       "  'id': '1'},\n",
       " {'pista': 'False',\n",
       "  'resultado': 'No contestada',\n",
       "  'us': 'helmer.morales1@gmail.com',\n",
       "  'tiempo': 2,\n",
       "  'id': 1},\n",
       " {'pista': 'False',\n",
       "  'resultado': 'No contestada',\n",
       "  'us': 'helmer.morales1@gmail.com',\n",
       "  'tiempo': 2,\n",
       "  'id': 1},\n",
       " {'pista': 'False',\n",
       "  'resultado': 'No contestada',\n",
       "  'us': 'helmer.morales1@gmail.com',\n",
       "  'tiempo': 1,\n",
       "  'id': 1},\n",
       " {'pista': 'False',\n",
       "  'resultado': 'No contestada',\n",
       "  'us': 'helmer.morales1@gmail.com',\n",
       "  'tiempo': 1,\n",
       "  'id': 1},\n",
       " {'pista': 'False',\n",
       "  'resultado': 'No contestada',\n",
       "  'us': 'helmer.morales1@gmail.com',\n",
       "  'tiempo': 1,\n",
       "  'id': 1},\n",
       " {'pista': 'False',\n",
       "  'resultado': 'No contestada',\n",
       "  'us': 'helmer.morales1@gmail.com',\n",
       "  'tiempo': 1,\n",
       "  'id': 0},\n",
       " {'pista': 'False',\n",
       "  'resultado': 'No contestada',\n",
       "  'us': 'helmer.morales1@gmail.com',\n",
       "  'tiempo': 2,\n",
       "  'id': '1'},\n",
       " {'pista': 'False',\n",
       "  'resultado': 'No contestada',\n",
       "  'us': 'helmer.morales1@gmail.com',\n",
       "  'tiempo': 2,\n",
       "  'id': '2'},\n",
       " {'pista': 'False',\n",
       "  'resultado': 'No contestada',\n",
       "  'us': 'helmer.morales1@gmail.com',\n",
       "  'tiempo': 2,\n",
       "  'id': '3'},\n",
       " {'pista': 'False',\n",
       "  'resultado': 'No contestada',\n",
       "  'us': 'helmer.morales1@gmail.com',\n",
       "  'tiempo': 1,\n",
       "  'id': 2}]"
      ]
     },
     "execution_count": 12,
     "metadata": {},
     "output_type": "execute_result"
    }
   ],
   "source": [
    "data= json.loads(s)\n",
    "data"
   ]
  },
  {
   "cell_type": "code",
   "execution_count": 13,
   "metadata": {},
   "outputs": [],
   "source": [
    "df = pd.DataFrame(data)\n",
    "df.to_csv(\"test1.csv\")"
   ]
  },
  {
   "cell_type": "code",
   "execution_count": null,
   "metadata": {},
   "outputs": [],
   "source": []
  },
  {
   "cell_type": "code",
   "execution_count": null,
   "metadata": {},
   "outputs": [],
   "source": []
  }
 ],
 "metadata": {
  "kernelspec": {
   "display_name": "Python 3",
   "language": "python",
   "name": "python3"
  },
  "language_info": {
   "codemirror_mode": {
    "name": "ipython",
    "version": 3
   },
   "file_extension": ".py",
   "mimetype": "text/x-python",
   "name": "python",
   "nbconvert_exporter": "python",
   "pygments_lexer": "ipython3",
   "version": "3.7.6"
  }
 },
 "nbformat": 4,
 "nbformat_minor": 4
}
